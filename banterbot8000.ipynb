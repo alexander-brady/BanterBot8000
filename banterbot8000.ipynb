{
 "cells": [
  {
   "cell_type": "markdown",
   "metadata": {},
   "source": [
    "**System Messages**"
   ]
  },
  {
   "cell_type": "code",
   "execution_count": 1,
   "metadata": {},
   "outputs": [],
   "source": [
    "# Main chatbot system\n",
    "system_chatbot = 'You are a friendly assistant. You are goofy and love to tell jokes. You are humorous and concise.'\n",
    "\n",
    "# Chatbot response\n",
    "system_should_explain_joke = 'Is the user asking you to explain a joke or pun?'\n",
    "system_extract_pun = '''Which words in the user message make up the pun? \n",
    "Example: \n",
    "Q: Please explain this joke: \"I used to be a baker, but I couldn\\'t make enough dough.\"\n",
    "A: The pun word(s) is: dough'''\n",
    "system_pun_type = '''Is the  humor in the pun based on \"sound\" or \"meaning\"?\n",
    "Example:\n",
    "The pun \"What do you call a fake noodle? An impasta.\" is based on \"sound\", because \"impasta\" sounds like \"imposter\".\n",
    "The pun \"My wife told me to stop impersonating a flamingo. I had to put my foot down.\" is based on \"meaning\", because \"put my foot down\" is an idiom meaning to assert authority.'''\n",
    "\n",
    "# Explain joke\n",
    "system_explain_joke = 'Explain the humor in the joke or pun.'"
   ]
  },
  {
   "cell_type": "markdown",
   "metadata": {},
   "source": [
    "# Initialization\n",
    "\n",
    "Run these blocks before using chatbot"
   ]
  },
  {
   "cell_type": "code",
   "execution_count": null,
   "metadata": {},
   "outputs": [],
   "source": [
    "path = 'Llama-3.2-3B-Instruct-Q6_K_L.gguf'\n",
    "\n",
    "from guidance import models, guidance, gen, assistant, user, system, select, substring\n",
    "from time import sleep\n",
    "\n",
    "llama = models.LlamaCpp(path, n_ctx=4096)"
   ]
  },
  {
   "cell_type": "code",
   "execution_count": null,
   "metadata": {},
   "outputs": [],
   "source": [
    "import nltk\n",
    "\n",
    "nltk.download('wordnet')\n",
    "nltk.download('words')\n",
    "nltk.download('cmudict')"
   ]
  },
  {
   "cell_type": "code",
   "execution_count": 4,
   "metadata": {},
   "outputs": [],
   "source": [
    "@guidance\n",
    "def explain_joke(lm):\n",
    "    with system():\n",
    "        llm = lm + system_explain_joke\n",
    "    with assistant():\n",
    "        llm = gen('explain_joke')\n",
    "        return lm + (llm['explain_joke'] or gen())"
   ]
  },
  {
   "cell_type": "code",
   "execution_count": 5,
   "metadata": {},
   "outputs": [],
   "source": [
    "from nltk.corpus import wordnet as wn\n",
    "\n",
    "@guidance\n",
    "def handle_homograph(lm, pun):\n",
    "    \n",
    "    synsets = wn.synsets(pun)\n",
    "    definitions = [syn.definition() for syn in synsets]\n",
    "    \n",
    "    if len(definitions) < 2:\n",
    "        return lm + explain_joke()\n",
    "        \n",
    "    elif len(definitions) == 2:\n",
    "        def1, def2 = definitions\n",
    "    \n",
    "    else:\n",
    "        with system():\n",
    "            llm = lm + 'The pun word \"' + pun + '\" plays on multiple meanings. Of the following dictionary definitions, which two explain the pun? \\n - ' + '\\n - '.join(definitions)\n",
    "            \n",
    "        with assistant():\n",
    "            llm += 'The humor plays off of the pun \"' + pun + '\" having two distinct meanings in this context. First, the definition \"' + select(definitions, name = 'def1') + '\"'\n",
    "            if 'def1' in llm:\n",
    "                def1 = llm['def1']\n",
    "                definitions.remove(def1)\n",
    "                llm += '. Second, \"' + pun + '\" also has the definition: \"' + select(definitions, name = 'def2')\n",
    "                if 'def2' in llm:\n",
    "                    def2 = llm['def2']\n",
    "                else:\n",
    "                    return lm + explain_joke()\n",
    "            else:\n",
    "                return lm + explain_joke()\n",
    "        \n",
    "    with assistant():\n",
    "        return lm + 'The pun \"' + pun + '\" is a homograph. It plays off the two meanings of the word \"' + pun + '\": (1) ' + def1 + ' and (2) ' + def2 + '. ' + gen(stop='.')"
   ]
  },
  {
   "cell_type": "code",
   "execution_count": 7,
   "metadata": {},
   "outputs": [],
   "source": [
    "from homophones import get_homophones\n",
    "\n",
    "@guidance\n",
    "def handle_homophone(lm, pun):\n",
    "    \n",
    "    cleansed_pun = pun.replace('-', ' ').lower()\n",
    "    cleansed_pun = ''.join([c for c in cleansed_pun if c.isalpha() or c.isspace()])\n",
    "    \n",
    "    similar_phones = get_homophones(cleansed_pun)\n",
    "    \n",
    "    if len(similar_phones) == 0:\n",
    "        return lm + explain_joke()\n",
    "    \n",
    "    elif len(similar_phones) == 1:\n",
    "        with assistant():\n",
    "            homophone = similar_phones[0]\n",
    "                    \n",
    "    else:\n",
    "        with system():\n",
    "            llm = lm + 'The pun word \"' + pun + '\" sounds like multiple word(s). Which one is the pun? \\n - ' + '\\n - '.join(similar_phones)\n",
    "        \n",
    "        with assistant():\n",
    "            llm += 'The pun \"' + pun + '\" is a pun because it sounds like the following word(s): ' + select(similar_phones, name = 'homophone')\n",
    "        homophone = llm['homophone']\n",
    "        \n",
    "    with assistant():\n",
    "        return lm + 'The joke relies on the homophone \"' + pun + '\", which sounds like \"' + homophone + '\". This ' + gen(stop='.')"
   ]
  },
  {
   "cell_type": "code",
   "execution_count": 8,
   "metadata": {},
   "outputs": [],
   "source": [
    "@guidance\n",
    "def chatbot_response(lm, user_input):\n",
    "    with system():\n",
    "        llm = lm + system_should_explain_joke\n",
    "    \n",
    "    with assistant():\n",
    "        llm += select(['Yes', 'No'], name='contains_pun')\n",
    "\n",
    "    if 'contains_pun' in llm and llm['contains_pun'] == 'Yes':\n",
    "        \n",
    "        with system():\n",
    "            llm += system_extract_pun\n",
    "            \n",
    "        with assistant():\n",
    "            llm += 'The pun word(s) is: ' + substring(user_input, name='pun')\n",
    "        \n",
    "        if 'pun' in llm:\n",
    "            pun = llm['pun'].strip()\n",
    "            \n",
    "            with system():\n",
    "                llm += system_pun_type\n",
    "            \n",
    "            with assistant():\n",
    "                llm += select(['sound', 'meaning'], name='pun_type')\n",
    "            \n",
    "            if 'pun_type' in llm:\n",
    "                \n",
    "                if llm['pun_type'] == 'sound':\n",
    "                    lm += handle_homophone(pun)\n",
    "                                        \n",
    "                else:\n",
    "                    lm += handle_homograph(pun)\n",
    "                \n",
    "                return lm\n",
    "    \n",
    "    with assistant():\n",
    "        lm += gen()\n",
    "    \n",
    "    return lm"
   ]
  },
  {
   "cell_type": "markdown",
   "metadata": {},
   "source": [
    "# Chatbot"
   ]
  },
  {
   "cell_type": "code",
   "execution_count": 9,
   "metadata": {},
   "outputs": [
    {
     "data": {
      "text/html": [
       "<pre style='margin: 0px; padding: 0px; vertical-align: middle; padding-left: 8px; margin-left: -8px; border-radius: 0px; border-left: 1px solid rgba(127, 127, 127, 0.2); white-space: pre-wrap; font-family: ColfaxAI, Arial; font-size: 15px; line-height: 23px;'><div style='display: flex; border-bottom: 1px solid rgba(127, 127, 127, 0.2);  justify-content: center; align-items: center;'><div style='flex: 0 0 80px; opacity: 0.5;'>system</div><div style='flex-grow: 1; padding: 5px; padding-top: 10px; padding-bottom: 10px; margin-top: 0px; white-space: pre-wrap; margin-bottom: 0px;'>You are a friendly assistant. You are goofy and love to tell jokes. You are humorous and concise.</div></div><div style='display: flex; border-bottom: 1px solid rgba(127, 127, 127, 0.2);  justify-content: center; align-items: center;'><div style='flex: 0 0 80px; opacity: 0.5;'>user</div><div style='flex-grow: 1; padding: 5px; padding-top: 10px; padding-bottom: 10px; margin-top: 0px; white-space: pre-wrap; margin-bottom: 0px;'>Why did the bicycle fall over? Because it was two-tired explain please!</div></div><div style='display: flex; border-bottom: 1px solid rgba(127, 127, 127, 0.2);  justify-content: center; align-items: center;'><div style='flex: 0 0 80px; opacity: 0.5;'>assistant</div><div style='flex-grow: 1; padding: 5px; padding-top: 10px; padding-bottom: 10px; margin-top: 0px; white-space: pre-wrap; margin-bottom: 0px;'>The joke relies on the homophone &quot;two-tired&quot;, which sounds like &quot;too tired&quot;. This <span style='background-color: rgba(0.0, 165.0, 0, 0.15); border-radius: 3px;' title='1.0'>is</span><span style='background-color: rgba(0.0, 165.0, 0, 0.15); border-radius: 3px;' title='1.0'> a</span><span style='background-color: rgba(0.0, 165.0, 0, 0.15); border-radius: 3px;' title='1.0'> play</span><span style='background-color: rgba(0.0, 165.0, 0, 0.15); border-radius: 3px;' title='1.0'> on</span><span style='background-color: rgba(0.0, 165.0, 0, 0.15); border-radius: 3px;' title='1.0'> words</span><span style='background-color: rgba(0.0, 165.0, 0, 0.15); border-radius: 3px;' title='1.0'>,</span><span style='background-color: rgba(0.0, 165.0, 0, 0.15); border-radius: 3px;' title='1.0'> as</span><span style='background-color: rgba(0.0, 165.0, 0, 0.15); border-radius: 3px;' title='1.0'> a</span><span style='background-color: rgba(0.0, 165.0, 0, 0.15); border-radius: 3px;' title='1.0'> bicycle</span><span style='background-color: rgba(0.0, 165.0, 0, 0.15); border-radius: 3px;' title='1.0'> has</span><span style='background-color: rgba(0.0, 165.0, 0, 0.15); border-radius: 3px;' title='1.0'> two</span><span style='background-color: rgba(0.0, 165.0, 0, 0.15); border-radius: 3px;' title='1.0'> tires</span><span style='background-color: rgba(0.0, 165.0, 0, 0.15); border-radius: 3px;' title='1.0'>,</span><span style='background-color: rgba(0.0, 165.0, 0, 0.15); border-radius: 3px;' title='1.0'> but</span><span style='background-color: rgba(0.0, 165.0, 0, 0.15); border-radius: 3px;' title='1.0'> the</span><span style='background-color: rgba(0.0, 165.0, 0, 0.15); border-radius: 3px;' title='1.0'> phrase</span><span style='background-color: rgba(0.0, 165.0, 0, 0.15); border-radius: 3px;' title='1.0'> &quot;</span><span style='background-color: rgba(0.0, 165.0, 0, 0.15); border-radius: 3px;' title='1.0'>too</span><span style='background-color: rgba(0.0, 165.0, 0, 0.15); border-radius: 3px;' title='1.0'> tired</span><span style='background-color: rgba(0.0, 165.0, 0, 0.15); border-radius: 3px;' title='1.0'>&quot;</span><span style='background-color: rgba(0.0, 165.0, 0, 0.15); border-radius: 3px;' title='1.0'> means</span><span style='background-color: rgba(0.0, 165.0, 0, 0.15); border-radius: 3px;' title='1.0'> exhausted</span><span style='background-color: rgba(0.0, 165.0, 0, 0.15); border-radius: 3px;' title='1.0'> or</span><span style='background-color: rgba(0.0, 165.0, 0, 0.15); border-radius: 3px;' title='1.0'> lacking</span><span style='background-color: rgba(0.0, 165.0, 0, 0.15); border-radius: 3px;' title='1.0'> energy</span></div></div></pre>"
      ],
      "text/plain": [
       "<IPython.core.display.HTML object>"
      ]
     },
     "metadata": {},
     "output_type": "display_data"
    }
   ],
   "source": [
    "with system():\n",
    "    chatbot = llama + system_chatbot\n",
    "\n",
    "while True:\n",
    "    user_input = input('Talk to the chatbot: ')\n",
    "    \n",
    "    if user_input.lower() in ['exit', 'quit', '', 'bye']:\n",
    "        break\n",
    "    \n",
    "    with user():\n",
    "        chatbot += user_input\n",
    "    \n",
    "    chatbot += chatbot_response(user_input)\n",
    "    \n",
    "    sleep(1)"
   ]
  }
 ],
 "metadata": {
  "kernelspec": {
   "display_name": "venv",
   "language": "python",
   "name": "python3"
  },
  "language_info": {
   "codemirror_mode": {
    "name": "ipython",
    "version": 3
   },
   "file_extension": ".py",
   "mimetype": "text/x-python",
   "name": "python",
   "nbconvert_exporter": "python",
   "pygments_lexer": "ipython3",
   "version": "3.10.11"
  }
 },
 "nbformat": 4,
 "nbformat_minor": 2
}
